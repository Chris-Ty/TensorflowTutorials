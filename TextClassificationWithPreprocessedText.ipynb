{
 "cells": [
  {
   "cell_type": "code",
   "execution_count": 1,
   "metadata": {},
   "outputs": [
    {
     "name": "stdout",
     "output_type": "stream",
     "text": [
      "2.0.0\n"
     ]
    }
   ],
   "source": [
    "import tensorflow as tf\n",
    "from tensorflow import keras\n",
    "\n",
    "import numpy as np\n",
    "print(tf.__version__)"
   ]
  },
  {
   "cell_type": "code",
   "execution_count": 4,
   "metadata": {},
   "outputs": [],
   "source": [
    "import ssl\n",
    "ssl._create_default_https_context = ssl._create_unverified_context"
   ]
  },
  {
   "cell_type": "code",
   "execution_count": 5,
   "metadata": {},
   "outputs": [
    {
     "name": "stdout",
     "output_type": "stream",
     "text": [
      "Downloading data from https://storage.googleapis.com/tensorflow/tf-keras-datasets/imdb.npz\n",
      "17465344/17464789 [==============================] - 7s 0us/step\n"
     ]
    }
   ],
   "source": [
    "imdb = keras.datasets.imdb\n",
    "# 参数num_words=10000保留训练数据中最常出现的10000个单词，保持了数据规模可管理性。\n",
    "(train_data, train_labels), (test_data, test_labels) = imdb.load_data(num_words=10000)"
   ]
  },
  {
   "cell_type": "code",
   "execution_count": 6,
   "metadata": {},
   "outputs": [
    {
     "name": "stdout",
     "output_type": "stream",
     "text": [
      "训练实体：25000,标签：25000\n"
     ]
    }
   ],
   "source": [
    "# 探索数据：了解数据格式\n",
    "print(\"训练实体：{0},标签：{1}\".format(len(train_data), len(train_labels)))"
   ]
  },
  {
   "cell_type": "code",
   "execution_count": 7,
   "metadata": {},
   "outputs": [
    {
     "name": "stdout",
     "output_type": "stream",
     "text": [
      "[1, 14, 22, 16, 43, 530, 973, 1622, 1385, 65, 458, 4468, 66, 3941, 4, 173, 36, 256, 5, 25, 100, 43, 838, 112, 50, 670, 2, 9, 35, 480, 284, 5, 150, 4, 172, 112, 167, 2, 336, 385, 39, 4, 172, 4536, 1111, 17, 546, 38, 13, 447, 4, 192, 50, 16, 6, 147, 2025, 19, 14, 22, 4, 1920, 4613, 469, 4, 22, 71, 87, 12, 16, 43, 530, 38, 76, 15, 13, 1247, 4, 22, 17, 515, 17, 12, 16, 626, 18, 2, 5, 62, 386, 12, 8, 316, 8, 106, 5, 4, 2223, 5244, 16, 480, 66, 3785, 33, 4, 130, 12, 16, 38, 619, 5, 25, 124, 51, 36, 135, 48, 25, 1415, 33, 6, 22, 12, 215, 28, 77, 52, 5, 14, 407, 16, 82, 2, 8, 4, 107, 117, 5952, 15, 256, 4, 2, 7, 3766, 5, 723, 36, 71, 43, 530, 476, 26, 400, 317, 46, 7, 4, 2, 1029, 13, 104, 88, 4, 381, 15, 297, 98, 32, 2071, 56, 26, 141, 6, 194, 7486, 18, 4, 226, 22, 21, 134, 476, 26, 480, 5, 144, 30, 5535, 18, 51, 36, 28, 224, 92, 25, 104, 4, 226, 65, 16, 38, 1334, 88, 12, 16, 283, 5, 16, 4472, 113, 103, 32, 15, 16, 5345, 19, 178, 32]\n"
     ]
    }
   ],
   "source": [
    "# 评论文本被转换为整数数值，其中每个整数代表词典中的一个单词。看一下第一条评论：\n",
    "print(train_data[0])"
   ]
  },
  {
   "cell_type": "code",
   "execution_count": 8,
   "metadata": {},
   "outputs": [
    {
     "data": {
      "text/plain": [
       "(218, 189)"
      ]
     },
     "execution_count": 8,
     "metadata": {},
     "output_type": "execute_result"
    }
   ],
   "source": [
    "# 评论明显可能有不同长度，如下。\n",
    "# 但由于神经网络的输入必须是统一的长度，我们稍后还要解决这个问题。\n",
    "len(train_data[0]), len(train_data[1])"
   ]
  },
  {
   "cell_type": "markdown",
   "metadata": {},
   "source": [
    "##### 将整数转换回单词\n",
    "-------\n",
    "1. 很有必要了解将整数转换回文本的方法。\n",
    "2. 这里创建一个辅助函数来查询包含了整数-字符串映射的字典对象"
   ]
  },
  {
   "cell_type": "code",
   "execution_count": 10,
   "metadata": {},
   "outputs": [],
   "source": [
    "# 一个映射单词到整数索引的词典\n",
    "word_index = imdb.get_word_index()\n",
    "\n",
    "# 保留第一个索引\n",
    "word_index = {k:(v+3) for k,v in word_index.items()}\n",
    "word_index[\"<PAD>\"] = 0\n",
    "word_index[\"<START>\"] = 1\n",
    "word_index[\"<UNK>\"] = 2  # unknown\n",
    "word_index[\"<UNUSED>\"] = 3\n",
    "\n",
    "reverse_word_index = dict([(value, key) for (key, value) in word_index.items()])\n",
    "\n",
    "def decode_review(text):\n",
    "    return ' '.join([reverse_word_index.get(i, '?') for i in text])"
   ]
  },
  {
   "cell_type": "code",
   "execution_count": 11,
   "metadata": {},
   "outputs": [
    {
     "data": {
      "text/plain": [
       "\"<START> this film was just brilliant casting location scenery story direction everyone's really suited the part they played and you could just imagine being there robert <UNK> is an amazing actor and now the same being director <UNK> father came from the same scottish island as myself so i loved the fact there was a real connection with this film the witty remarks throughout the film were great it was just brilliant so much that i bought the film as soon as it was released for <UNK> and would recommend it to everyone to watch and the fly fishing was amazing really cried at the end it was so sad and you know what they say if you cry at a film it must have been good and this definitely was also <UNK> to the two little boy's that played the <UNK> of norman and paul they were just brilliant children are often left out of the <UNK> list i think because the stars that play them all grown up are such a big profile for the whole film but these children are amazing and should be praised for what they have done don't you think the whole story was so lovely because it was true and was someone's life after all that was shared with us all\""
      ]
     },
     "execution_count": 11,
     "metadata": {},
     "output_type": "execute_result"
    }
   ],
   "source": [
    "# 现在我们可以使用decode_review 函数来显示第一条评论的文本信息：\n",
    "decode_review(train_data[0])"
   ]
  },
  {
   "cell_type": "markdown",
   "metadata": {},
   "source": [
    "##### 准备数据——影评即整数数组必须在输入神经网络前转换为张量，有一下两种方式\n",
    "----------\n",
    "1. 将数组转换为表示单词出现与否的由 0 和 1 组成的向量，类似于 one-hot 编码。例如，序列[3, 5]将转换为一个 10,000 维的向量，该向量除了索引为 3 和 5 的位置是 1 以外，其他都为 0。然后，将其作为网络的首层——一个可以处理浮点型向量数据的稠密层。不过，这种方法需要大量的内存，需要一个大小为 num_words * num_reviews 的矩阵。\n",
    "2. 或者，我们可以填充数组来保证输入数据具有相同的长度，然后创建一个大小为 max_length * num_reviews 的整型张量。我们可以使用能够处理此形状数据的嵌入层作为网络中的第一层。\n",
    "----------\n",
    "将使用第二种方法，并使用pad_sequences函数来使得输入神经网络的评论长度标准化。"
   ]
  },
  {
   "cell_type": "code",
   "execution_count": 16,
   "metadata": {},
   "outputs": [],
   "source": [
    "train_data = keras.preprocessing.sequence.pad_sequences(train_data,\n",
    "                                                       value=word_index[\"<PAD>\"],\n",
    "                                                       padding='post',\n",
    "                                                       maxlen=256)\n",
    "\n",
    "test_data = keras.preprocessing.sequence.pad_sequences(test_data,\n",
    "                                                      value=word_index[\"<PAD>\"],\n",
    "                                                      padding='post',\n",
    "                                                      maxlen=256)"
   ]
  },
  {
   "cell_type": "code",
   "execution_count": 17,
   "metadata": {},
   "outputs": [
    {
     "data": {
      "text/plain": [
       "(256, 256)"
      ]
     },
     "execution_count": 17,
     "metadata": {},
     "output_type": "execute_result"
    }
   ],
   "source": [
    "# 看下样本长度\n",
    "len(train_data[0]), len(train_data[1])"
   ]
  },
  {
   "cell_type": "code",
   "execution_count": 18,
   "metadata": {},
   "outputs": [
    {
     "name": "stdout",
     "output_type": "stream",
     "text": [
      "[   1   14   22   16   43  530  973 1622 1385   65  458 4468   66 3941\n",
      "    4  173   36  256    5   25  100   43  838  112   50  670    2    9\n",
      "   35  480  284    5  150    4  172  112  167    2  336  385   39    4\n",
      "  172 4536 1111   17  546   38   13  447    4  192   50   16    6  147\n",
      " 2025   19   14   22    4 1920 4613  469    4   22   71   87   12   16\n",
      "   43  530   38   76   15   13 1247    4   22   17  515   17   12   16\n",
      "  626   18    2    5   62  386   12    8  316    8  106    5    4 2223\n",
      " 5244   16  480   66 3785   33    4  130   12   16   38  619    5   25\n",
      "  124   51   36  135   48   25 1415   33    6   22   12  215   28   77\n",
      "   52    5   14  407   16   82    2    8    4  107  117 5952   15  256\n",
      "    4    2    7 3766    5  723   36   71   43  530  476   26  400  317\n",
      "   46    7    4    2 1029   13  104   88    4  381   15  297   98   32\n",
      " 2071   56   26  141    6  194 7486   18    4  226   22   21  134  476\n",
      "   26  480    5  144   30 5535   18   51   36   28  224   92   25  104\n",
      "    4  226   65   16   38 1334   88   12   16  283    5   16 4472  113\n",
      "  103   32   15   16 5345   19  178   32    0    0    0    0    0    0\n",
      "    0    0    0    0    0    0    0    0    0    0    0    0    0    0\n",
      "    0    0    0    0    0    0    0    0    0    0    0    0    0    0\n",
      "    0    0    0    0]\n"
     ]
    }
   ],
   "source": [
    "# 并检查第一条评论（应该已被填充）\n",
    "print(train_data[0])"
   ]
  },
  {
   "cell_type": "markdown",
   "metadata": {},
   "source": [
    "##### 构建模型\n",
    "------------\n",
    "神经网络由堆叠的层来构建，这需要从两个主要方面来进行体系结构决策：\n",
    "1. 模型有多少层？\n",
    "2. 每个层有多少隐藏层单元(hidden units)？\n",
    "------------\n",
    "在此样本中，输入数据包含一个单词索引(映射的整形数值)的数组，而要预测的标签为0或1。\n",
    "-------\n",
    "为该问题构建以下模型："
   ]
  },
  {
   "cell_type": "code",
   "execution_count": 19,
   "metadata": {},
   "outputs": [
    {
     "name": "stdout",
     "output_type": "stream",
     "text": [
      "Model: \"sequential\"\n",
      "_________________________________________________________________\n",
      "Layer (type)                 Output Shape              Param #   \n",
      "=================================================================\n",
      "embedding (Embedding)        (None, None, 16)          160000    \n",
      "_________________________________________________________________\n",
      "global_average_pooling1d (Gl (None, 16)                0         \n",
      "_________________________________________________________________\n",
      "dense (Dense)                (None, 16)                272       \n",
      "_________________________________________________________________\n",
      "dense_1 (Dense)              (None, 1)                 17        \n",
      "=================================================================\n",
      "Total params: 160,289\n",
      "Trainable params: 160,289\n",
      "Non-trainable params: 0\n",
      "_________________________________________________________________\n"
     ]
    }
   ],
   "source": [
    "# 输入形状是用于电影评论的词汇数目（10,000词）\n",
    "vocab_size = 10000\n",
    "\n",
    "model = keras.Sequential()\n",
    "model.add(keras.layers.Embedding(vocab_size, 16))\n",
    "model.add(keras.layers.GlobalAveragePooling1D())\n",
    "model.add(keras.layers.Dense(16, activation='relu'))\n",
    "model.add(keras.layers.Dense(1, activation='sigmoid'))\n",
    "\n",
    "model.summary()"
   ]
  },
  {
   "cell_type": "markdown",
   "metadata": {},
   "source": [
    "##### 层按顺序堆叠以构建分类器：\n",
    "---------\n",
    "1. （需要理解原理）第一层是嵌入（Embedding）层。该层采用整数编码的词汇表，并查找每个词索引的嵌入向量（Embedding vector）。这些向量是通过模型训练学习到的。向量向输出数组增加了一个维度，得到的维度为（batch,sequence,embedding）\n",
    "2. 接下来，GlobalAveragePooling1D将通过对序列维度求平均值来为每个样本返回一个定长输出向量。这样允许模型以尽可能最简单的方式处理变长输入。\n",
    "3. 该定长输出向量通过一个具有16个隐藏层单元的券链接（Dense）层传输。\n",
    "4. 最后一层与单个输出结点密集连接。使用Sigmoid激活函数，其函数值为介于0-1之间的浮点数，表示概率/置信度。"
   ]
  },
  {
   "cell_type": "markdown",
   "metadata": {},
   "source": [
    "##### 隐藏层单元\n",
    "--------------\n",
    "1. 上述模型在输入输出之间有两个中间层/“隐藏层”。输出（单元，结点/神经元）的数量即为表示空间的维度。换句话说，是学习内部表示时网络所允许的自由度。\n",
    "2. 如果模型具有更多的隐藏层单元（即更高维度的表示空间）和/或 更多层，则可以学习到更复杂的表示。但是，这会使网络的计算成本更高，而且可能导致学习到不需要的模式————比如一些能在训练数据上而不是在测试数据上改善性能的模式，也就是过拟合。"
   ]
  },
  {
   "cell_type": "markdown",
   "metadata": {},
   "source": [
    "##### 损失函数与优化器\n",
    "------\n",
    "1. 一个模型需要损失函数和优化器来进行训练。因为这是一个而分类问题且模型输出的是概率值（一个使用sigmoid激活函数的单一单元层），我们将使用binary_crossentropy损失函数。\n",
    "2. 当然这不是损失函数的唯一一个选择，例如，也可以选择mean_squared_error。但一般来说，binary_crossentropy更适合处理概率——其能够度量概率分布之间的“距离”，或者在我们的示例中，指的是度量ground-truth分布？与预测值之间的“距离”。"
   ]
  },
  {
   "cell_type": "code",
   "execution_count": 20,
   "metadata": {},
   "outputs": [],
   "source": [
    "# 现在，配置模型来使用优化器和损失函数：\n",
    "model.compile(optimizer='adam',\n",
    "             loss='binary_crossentropy',\n",
    "             metrics=['accuracy'])"
   ]
  },
  {
   "cell_type": "markdown",
   "metadata": {},
   "source": [
    "#####  创建一个验证集\n",
    "----------\n",
    "在训练时，我们想要检查模型在未坚果的数据上的准确率（accuracy）。通过从原始训练数据中分离10,000个样本来创建一个验证集。（目的：只使用训练数据来开发和调整模型，然后只使用一次测试数据来评估准确率Acc）"
   ]
  },
  {
   "cell_type": "code",
   "execution_count": 23,
   "metadata": {},
   "outputs": [],
   "source": [
    "x_val = train_data[:10000]\n",
    "partial_x_train = train_data[10000:]\n",
    "\n",
    "y_val = train_labels[:10000]\n",
    "partial_y_train = train_labels[10000:]"
   ]
  },
  {
   "cell_type": "markdown",
   "metadata": {},
   "source": [
    "##### 训练模型\n",
    "-------------\n",
    "1. 以512个样本的mini-batch大小迭代40个epoch来训练模型。\n",
    "2. 这指的是对x_train和y_train张量中所有样本的40次迭代。\n",
    "3. 在训练过程中，检测来自验证集的10,000个样本上的损失值loss和准确率acc"
   ]
  },
  {
   "cell_type": "code",
   "execution_count": 24,
   "metadata": {},
   "outputs": [
    {
     "name": "stdout",
     "output_type": "stream",
     "text": [
      "Train on 15000 samples, validate on 10000 samples\n",
      "Epoch 1/40\n",
      "15000/15000 [==============================] - 1s 57us/sample - loss: 0.6918 - accuracy: 0.5697 - val_loss: 0.6898 - val_accuracy: 0.6769\n",
      "Epoch 2/40\n",
      "15000/15000 [==============================] - 0s 17us/sample - loss: 0.6861 - accuracy: 0.7201 - val_loss: 0.6822 - val_accuracy: 0.7353\n",
      "Epoch 3/40\n",
      "15000/15000 [==============================] - 0s 20us/sample - loss: 0.6746 - accuracy: 0.7511 - val_loss: 0.6679 - val_accuracy: 0.7293\n",
      "Epoch 4/40\n",
      "15000/15000 [==============================] - 0s 19us/sample - loss: 0.6557 - accuracy: 0.7702 - val_loss: 0.6469 - val_accuracy: 0.7705\n",
      "Epoch 5/40\n",
      "15000/15000 [==============================] - 0s 20us/sample - loss: 0.6287 - accuracy: 0.7926 - val_loss: 0.6183 - val_accuracy: 0.7769\n",
      "Epoch 6/40\n",
      "15000/15000 [==============================] - 0s 20us/sample - loss: 0.5941 - accuracy: 0.8027 - val_loss: 0.5837 - val_accuracy: 0.7956\n",
      "Epoch 7/40\n",
      "15000/15000 [==============================] - 0s 18us/sample - loss: 0.5527 - accuracy: 0.8231 - val_loss: 0.5437 - val_accuracy: 0.8093\n",
      "Epoch 8/40\n",
      "15000/15000 [==============================] - 0s 22us/sample - loss: 0.5079 - accuracy: 0.8381 - val_loss: 0.5036 - val_accuracy: 0.8229\n",
      "Epoch 9/40\n",
      "15000/15000 [==============================] - 0s 22us/sample - loss: 0.4645 - accuracy: 0.8508 - val_loss: 0.4662 - val_accuracy: 0.8361\n",
      "Epoch 10/40\n",
      "15000/15000 [==============================] - 0s 21us/sample - loss: 0.4244 - accuracy: 0.8639 - val_loss: 0.4331 - val_accuracy: 0.8455\n",
      "Epoch 11/40\n",
      "15000/15000 [==============================] - 0s 23us/sample - loss: 0.3894 - accuracy: 0.8738 - val_loss: 0.4052 - val_accuracy: 0.8544\n",
      "Epoch 12/40\n",
      "15000/15000 [==============================] - 0s 18us/sample - loss: 0.3596 - accuracy: 0.8822 - val_loss: 0.3829 - val_accuracy: 0.8585\n",
      "Epoch 13/40\n",
      "15000/15000 [==============================] - 0s 20us/sample - loss: 0.3342 - accuracy: 0.8909 - val_loss: 0.3643 - val_accuracy: 0.8652\n",
      "Epoch 14/40\n",
      "15000/15000 [==============================] - 0s 18us/sample - loss: 0.3125 - accuracy: 0.8950 - val_loss: 0.3495 - val_accuracy: 0.8685\n",
      "Epoch 15/40\n",
      "15000/15000 [==============================] - 0s 22us/sample - loss: 0.2939 - accuracy: 0.9012 - val_loss: 0.3371 - val_accuracy: 0.8723\n",
      "Epoch 16/40\n",
      "15000/15000 [==============================] - 0s 19us/sample - loss: 0.2772 - accuracy: 0.9056 - val_loss: 0.3272 - val_accuracy: 0.8745\n",
      "Epoch 17/40\n",
      "15000/15000 [==============================] - 0s 19us/sample - loss: 0.2628 - accuracy: 0.9095 - val_loss: 0.3192 - val_accuracy: 0.8755\n",
      "Epoch 18/40\n",
      "15000/15000 [==============================] - 0s 21us/sample - loss: 0.2496 - accuracy: 0.9141 - val_loss: 0.3118 - val_accuracy: 0.8785\n",
      "Epoch 19/40\n",
      "15000/15000 [==============================] - 0s 20us/sample - loss: 0.2378 - accuracy: 0.9184 - val_loss: 0.3072 - val_accuracy: 0.8789\n",
      "Epoch 20/40\n",
      "15000/15000 [==============================] - 0s 23us/sample - loss: 0.2270 - accuracy: 0.9213 - val_loss: 0.3015 - val_accuracy: 0.8814\n",
      "Epoch 21/40\n",
      "15000/15000 [==============================] - 0s 19us/sample - loss: 0.2171 - accuracy: 0.9259 - val_loss: 0.2980 - val_accuracy: 0.8812\n",
      "Epoch 22/40\n",
      "15000/15000 [==============================] - 0s 20us/sample - loss: 0.2078 - accuracy: 0.9293 - val_loss: 0.2939 - val_accuracy: 0.8822\n",
      "Epoch 23/40\n",
      "15000/15000 [==============================] - 0s 19us/sample - loss: 0.1995 - accuracy: 0.9319 - val_loss: 0.2917 - val_accuracy: 0.8833\n",
      "Epoch 24/40\n",
      "15000/15000 [==============================] - 0s 20us/sample - loss: 0.1908 - accuracy: 0.9371 - val_loss: 0.2894 - val_accuracy: 0.8833\n",
      "Epoch 25/40\n",
      "15000/15000 [==============================] - 0s 19us/sample - loss: 0.1833 - accuracy: 0.9395 - val_loss: 0.2877 - val_accuracy: 0.8841\n",
      "Epoch 26/40\n",
      "15000/15000 [==============================] - 0s 18us/sample - loss: 0.1761 - accuracy: 0.9435 - val_loss: 0.2864 - val_accuracy: 0.8852\n",
      "Epoch 27/40\n",
      "15000/15000 [==============================] - 0s 18us/sample - loss: 0.1689 - accuracy: 0.9465 - val_loss: 0.2857 - val_accuracy: 0.8852\n",
      "Epoch 28/40\n",
      "15000/15000 [==============================] - 0s 21us/sample - loss: 0.1626 - accuracy: 0.9489 - val_loss: 0.2856 - val_accuracy: 0.8853\n",
      "Epoch 29/40\n",
      "15000/15000 [==============================] - 0s 20us/sample - loss: 0.1572 - accuracy: 0.9517 - val_loss: 0.2857 - val_accuracy: 0.8847\n",
      "Epoch 30/40\n",
      "15000/15000 [==============================] - 0s 22us/sample - loss: 0.1510 - accuracy: 0.9531 - val_loss: 0.2857 - val_accuracy: 0.8848\n",
      "Epoch 31/40\n",
      "15000/15000 [==============================] - 0s 19us/sample - loss: 0.1451 - accuracy: 0.9557 - val_loss: 0.2868 - val_accuracy: 0.8852\n",
      "Epoch 32/40\n",
      "15000/15000 [==============================] - 0s 19us/sample - loss: 0.1404 - accuracy: 0.9578 - val_loss: 0.2867 - val_accuracy: 0.8863\n",
      "Epoch 33/40\n",
      "15000/15000 [==============================] - 0s 19us/sample - loss: 0.1348 - accuracy: 0.9600 - val_loss: 0.2879 - val_accuracy: 0.8858\n",
      "Epoch 34/40\n",
      "15000/15000 [==============================] - 0s 18us/sample - loss: 0.1302 - accuracy: 0.9620 - val_loss: 0.2892 - val_accuracy: 0.8856\n",
      "Epoch 35/40\n",
      "15000/15000 [==============================] - 0s 18us/sample - loss: 0.1256 - accuracy: 0.9643 - val_loss: 0.2905 - val_accuracy: 0.8854\n",
      "Epoch 36/40\n",
      "15000/15000 [==============================] - 0s 20us/sample - loss: 0.1215 - accuracy: 0.9655 - val_loss: 0.2923 - val_accuracy: 0.8848\n",
      "Epoch 37/40\n",
      "15000/15000 [==============================] - 0s 20us/sample - loss: 0.1172 - accuracy: 0.9666 - val_loss: 0.2940 - val_accuracy: 0.8853\n",
      "Epoch 38/40\n",
      "15000/15000 [==============================] - 0s 19us/sample - loss: 0.1129 - accuracy: 0.9692 - val_loss: 0.2962 - val_accuracy: 0.8853\n",
      "Epoch 39/40\n",
      "15000/15000 [==============================] - 0s 18us/sample - loss: 0.1089 - accuracy: 0.9698 - val_loss: 0.2981 - val_accuracy: 0.8848\n",
      "Epoch 40/40\n",
      "15000/15000 [==============================] - 0s 18us/sample - loss: 0.1052 - accuracy: 0.9716 - val_loss: 0.3007 - val_accuracy: 0.8838\n"
     ]
    }
   ],
   "source": [
    "history = model.fit(partial_x_train,\n",
    "                   partial_y_train,\n",
    "                   epochs=40,\n",
    "                   batch_size=512,\n",
    "                    validation_data=(x_val, y_val),\n",
    "                    verbose=1\n",
    "                   )"
   ]
  },
  {
   "cell_type": "markdown",
   "metadata": {},
   "source": [
    "##### 评估模型\n",
    "------------\n",
    "看一下模型性能。返回两个值：loss损失（表示误差，值低了好）与acc准确率"
   ]
  },
  {
   "cell_type": "code",
   "execution_count": 25,
   "metadata": {},
   "outputs": [
    {
     "name": "stdout",
     "output_type": "stream",
     "text": [
      "25000/1 - 0s - loss: 0.3274 - accuracy: 0.8744\n",
      "[0.3194321419095993, 0.87436]\n"
     ]
    }
   ],
   "source": [
    "results = model.evaluate(test_data, test_labels, verbose=2)\n",
    "\n",
    "print(results)"
   ]
  },
  {
   "cell_type": "code",
   "execution_count": 26,
   "metadata": {},
   "outputs": [],
   "source": [
    "# 这种十分朴素的方法得到了约 87% 的准确率（accuracy）。若采用更好的方法，模型的准确率应当接近 95%。"
   ]
  },
  {
   "cell_type": "markdown",
   "metadata": {},
   "source": [
    "##### 创建一个准确率（accuracy）和损失值（loss）随时间变化的图表\n",
    "-----------\n",
    "model.fit()返回一个History对象，该对象包含一个字典，其中包含训练阶段所发生的所有事件："
   ]
  },
  {
   "cell_type": "code",
   "execution_count": 27,
   "metadata": {},
   "outputs": [
    {
     "data": {
      "text/plain": [
       "dict_keys(['loss', 'accuracy', 'val_loss', 'val_accuracy'])"
      ]
     },
     "execution_count": 27,
     "metadata": {},
     "output_type": "execute_result"
    }
   ],
   "source": [
    "history_dict= history.history\n",
    "history_dict.keys()"
   ]
  },
  {
   "cell_type": "code",
   "execution_count": 28,
   "metadata": {},
   "outputs": [],
   "source": [
    "# 有四个items：在训练和验证期间，每个条目对应一个监控指标。我们可以使用这些条目来绘制训练与验证过程的损失loss和准确率acc，以便来进行比较。"
   ]
  },
  {
   "cell_type": "code",
   "execution_count": 32,
   "metadata": {},
   "outputs": [
    {
     "data": {
      "image/png": "[encoded data removed]",
      "text/plain": [
       "<Figure size 432x288 with 1 Axes>"
      ]
     },
     "metadata": {
      "needs_background": "light"
     },
     "output_type": "display_data"
    }
   ],
   "source": [
    "import matplotlib.pyplot as plt\n",
    "\n",
    "acc = history_dict['accuracy']\n",
    "val_acc = history_dict['val_accuracy']\n",
    "loss = history_dict['loss']\n",
    "val_loss = history_dict['val_loss']\n",
    "\n",
    "epochs = range(1, len(acc) + 1)\n",
    "\n",
    "# \"bo\"代表“蓝点”\n",
    "plt.plot(epochs, loss, 'bo', label='训练损失')\n",
    "# 'b'代表“蓝色实线”\n",
    "plt.plot(epochs, val_loss, 'b', label='验证损失')\n",
    "plt.title('训练和验证损失')\n",
    "plt.xlabel('轮数Epochs')\n",
    "plt.ylabel('损失Loss')\n",
    "plt.legend()\n",
    "\n",
    "plt.show()"
   ]
  },
  {
   "cell_type": "code",
   "execution_count": 33,
   "metadata": {},
   "outputs": [
    {
     "data": {
      "image/png": "[encoded data removed]",
      "text/plain": [
       "<Figure size 432x288 with 1 Axes>"
      ]
     },
     "metadata": {
      "needs_background": "light"
     },
     "output_type": "display_data"
    }
   ],
   "source": [
    "plt.clf()  # 清除数字\n",
    "plt.plot(epochs, acc, 'bo', label='训练准确率')\n",
    "plt.plot(epochs, val_acc, 'b', label='验证准确率')\n",
    "plt.xlabel('轮数Epochs')\n",
    "plt.ylabel('损失Loss')\n",
    "plt.legend()\n",
    "\n",
    "plt.show()"
   ]
  },
  {
   "cell_type": "code",
   "execution_count": null,
   "metadata": {},
   "outputs": [],
   "source": []
  },
  {
   "cell_type": "markdown",
   "metadata": {},
   "source": [
    "1. 由图，损失值loss随着epoch下降下降；acc随着每一个epoch上升。这在使用梯度下降优化时是可预期的——理应在每次迭代中最小化期望值。\n",
    "2. 但验证过程中的损失和acc却并非如此——似乎它们在20个epoch后达到峰值——这是过拟合的一个实例：模型在训练数据上的表现比在从未见过的数据上的变现要更好，在此之后，模型过度优化并学习特定于训练数据的表示从而不能够泛化到测试数据。\n",
    "3. 对于这种特殊情况，我们可以通过20个左右的epoch后停止训练来避免过拟合。之后将有通过“回调”来自动执行此操作。"
   ]
  },
  {
   "cell_type": "code",
   "execution_count": null,
   "metadata": {},
   "outputs": [],
   "source": []
  },
  {
   "cell_type": "markdown",
   "metadata": {},
   "source": [
    "### 这是来自https://tensorflow.google.cn/tutorials/keras/text_classification 的教程\n",
    "------\n",
    "子标题位于BEGINNER下ML basics with Keras下的Text classification with preprocessed text里。"
   ]
  },
  {
   "cell_type": "code",
   "execution_count": null,
   "metadata": {},
   "outputs": [],
   "source": []
  }
 ],
 "metadata": {
  "kernelspec": {
   "display_name": "Python 3",
   "language": "python",
   "name": "python3"
  },
  "language_info": {
   "codemirror_mode": {
    "name": "ipython",
    "version": 3
   },
   "file_extension": ".py",
   "mimetype": "text/x-python",
   "name": "python",
   "nbconvert_exporter": "python",
   "pygments_lexer": "ipython3",
   "version": "3.7.3"
  }
 },
 "nbformat": 4,
 "nbformat_minor": 2
}
